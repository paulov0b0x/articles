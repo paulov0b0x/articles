{
 "cells": [
  {
   "cell_type": "markdown",
   "id": "c5db3474",
   "metadata": {},
   "source": [
    "# Extracting Data from the Binance Exchange by using Websockets"
   ]
  },
  {
   "cell_type": "markdown",
   "id": "ec304d34",
   "metadata": {},
   "source": [
    "The current global cryptocurrency market is worth more than 1.5 trillion dolars. Cryptocurrencies have emerged from literally an asset with no profitable value such as the famous story where [a man has traded his 10,000 BTC for pizza](https://bitcointalk.org/index.php?topic=137.0) to an asset worth more than U$ 30,000 as of this date. It is no wonder that we can see a future marked by the usage of cryptocurrencies instead of the old fiat.\n",
    "\n",
    "This tutorial is about how one can extract data from the Binance API available at [Binance API](https://www.binance.com/en/my/settings/api-management). This example uses the documentation available at [python-binance](https://python-binance.readthedocs.io/en/latest/index.html) and a few other tricks so we can accomplish our goals!"
   ]
  },
  {
   "attachments": {
    "fac5000e-42cf-47c1-ac67-09e8554ea32c.png": {
     "image/png": "[encoded data removed]"
    }
   },
   "cell_type": "markdown",
   "id": "0b377b45",
   "metadata": {},
   "source": [
    "## Importing the Client and Setting API Key and API Secret\n",
    "To access the Binance API, it is needed first to initialize the Client and then authenticate within the Binance API. This tutorial assumes you have already set the keys in a keys.ipynb file as below, which is located inside the same directory of the current Jupyter notebook file.\n",
    "![image.png](attachment:fac5000e-42cf-47c1-ac67-09e8554ea32c.png)"
   ]
  },
  {
   "cell_type": "code",
   "execution_count": 34,
   "id": "640b2a21",
   "metadata": {},
   "outputs": [],
   "source": [
    "from binance.client import Client\n",
    "# Get keys for usage with Binance API\n",
    "%run keys.ipynb\n",
    "\n",
    "# Initializes Client inside the client variable\n",
    "client = Client(API_KEY,API_SECRET)"
   ]
  },
  {
   "cell_type": "markdown",
   "id": "8c94777d",
   "metadata": {},
   "source": [
    "## Constants\n",
    "\n",
    "**TRADING_PAIR** corresponds to the pair from which the Binance API will extract the data. In this case, the author has opted to select the pair of the ADA coin which is expressed in terms of the BNB coin.\n",
    "\n",
    "**STARTING_DATE** is defined as the starting date for the samples for which the data will be gathered and **ENDING_DATE**, correspondingly, the ending date for these samples."
   ]
  },
  {
   "cell_type": "code",
   "execution_count": 35,
   "id": "93c7ddda",
   "metadata": {},
   "outputs": [],
   "source": [
    "# Escolhe o par\n",
    "TRADING_PAIR = 'ADABNB'\n",
    "# Data de Inicio da Captura dos Dados\n",
    "STARTING_DATE = \"22 May, 2021\"\n",
    "# Data Final da Captura dos Dados\n",
    "END_DATE = \"23 May, 2021\""
   ]
  },
  {
   "cell_type": "markdown",
   "id": "0bf1293a",
   "metadata": {},
   "source": [
    "## Process Message Function\n",
    "The Process Message function defines how the contents returned by the calls to the API will be processed. In our case, if there are any errors, the socket will stop connecting to the Binance API and close the Binance Socket Manager. Else, it will proceed with the operations."
   ]
  },
  {
   "cell_type": "code",
   "execution_count": 36,
   "id": "53083fb4",
   "metadata": {},
   "outputs": [],
   "source": [
    "def process_message(msg):\n",
    "    if msg['e'] == 'error':\n",
    "        bm.stop_socket(conn_key)\n",
    "        bm.close()\n",
    "    else:\n",
    "        pass"
   ]
  },
  {
   "cell_type": "markdown",
   "id": "79cb4a1a",
   "metadata": {},
   "source": [
    "## Binance Websockets\n",
    "[Websockets](https://developer.mozilla.org/en-US/docs/Web/API/WebSockets_API) allow to open a two-way interactive communication session between the Jupyter environment and a server. With a Websockets API, Jupyter can send messages to a server and receive event-driven responses without having to poll the Binance API again for a reply.\n",
    "\n",
    "First, we import the [Binance Websockets API](https://python-binance.readthedocs.io/en/latest/websockets.html) and initialize the [Binance Socket Manager](https://python-binance.readthedocs.io/en/latest/websockets.html#binancesocketmanager-websocket-usage) with an user timeout of 60 seconds. Then, we start a trading socket on the trading pair previously defined using the **Process Message Function**."
   ]
  },
  {
   "cell_type": "code",
   "execution_count": 37,
   "id": "4b2fdd23",
   "metadata": {},
   "outputs": [],
   "source": [
    "# Importing Binance Websockets API\n",
    "from binance.client import *\n",
    "from binance.websockets import BinanceSocketManager\n",
    "from twisted.internet import reactor\n",
    "\n",
    "# Initialize Binance Socket Manager\n",
    "bm = BinanceSocketManager(client, user_timeout=60)\n",
    "list_messages = []\n",
    "conn_key = bm.start_trade_socket(TRADING_PAIR, process_message)\n",
    "bm.start()"
   ]
  },
  {
   "cell_type": "markdown",
   "id": "bcc06df2",
   "metadata": {},
   "source": [
    "## Candlestick Data"
   ]
  },
  {
   "cell_type": "markdown",
   "id": "24e97ab2",
   "metadata": {},
   "source": [
    "In this example, the author has opted to approach only the values for the [Kline/Candlesticks Endpoint](https://python-binance.readthedocs.io/en/latest/market_data.html#id6), albeit the API has an [extensive amount of other endpoints for Market Data](https://python-binance.readthedocs.io/en/latest/market_data.html). The **TRADING_PAIR** ADA/BNB is used, as stated above, and the interval we have opted to choose was for 5M - or 5 minute - candles.\n",
    "\n",
    "You can see the available intervals inside the [Constants](https://python-binance.readthedocs.io/en/latest/constants.html) for the Python wrapper for Binance API."
   ]
  },
  {
   "cell_type": "code",
   "execution_count": 38,
   "id": "c46a3a88",
   "metadata": {},
   "outputs": [],
   "source": [
    "candles = client.get_klines(symbol=TRADING_PAIR, interval=Client.KLINE_INTERVAL_5MINUTE)"
   ]
  },
  {
   "cell_type": "markdown",
   "id": "acbe73d5",
   "metadata": {},
   "source": [
    "## Initializing the Data\n",
    "\n",
    "\n",
    "Now the data is initialized by assigning the values for the indexes - or header columns - to an array and initialize the data from the candle data saved inside the *candles* variable into a Pandas DataFrame. Then, we'll show the first 5 columns of the DataFrame."
   ]
  },
  {
   "cell_type": "code",
   "execution_count": 39,
   "id": "fbfcb2b6",
   "metadata": {},
   "outputs": [
    {
     "data": {
      "text/html": [
       "<div>\n",
       "<style scoped>\n",
       "    .dataframe tbody tr th:only-of-type {\n",
       "        vertical-align: middle;\n",
       "    }\n",
       "\n",
       "    .dataframe tbody tr th {\n",
       "        vertical-align: top;\n",
       "    }\n",
       "\n",
       "    .dataframe thead th {\n",
       "        text-align: right;\n",
       "    }\n",
       "</style>\n",
       "<table border=\"1\" class=\"dataframe\">\n",
       "  <thead>\n",
       "    <tr style=\"text-align: right;\">\n",
       "      <th></th>\n",
       "      <th>Open Time</th>\n",
       "      <th>Open</th>\n",
       "      <th>High</th>\n",
       "      <th>Low</th>\n",
       "      <th>Close</th>\n",
       "      <th>Volume</th>\n",
       "      <th>Close Time</th>\n",
       "      <th>QAV</th>\n",
       "      <th>No. Trades</th>\n",
       "      <th>Taker BBAV</th>\n",
       "      <th>Taker BQAV</th>\n",
       "      <th>Ignore</th>\n",
       "    </tr>\n",
       "  </thead>\n",
       "  <tbody>\n",
       "    <tr>\n",
       "      <th>0</th>\n",
       "      <td>1621758600000</td>\n",
       "      <td>0.00505500</td>\n",
       "      <td>0.00506300</td>\n",
       "      <td>0.00501400</td>\n",
       "      <td>0.00504600</td>\n",
       "      <td>81838.00000000</td>\n",
       "      <td>1621758899999</td>\n",
       "      <td>412.45858000</td>\n",
       "      <td>263</td>\n",
       "      <td>29382.00000000</td>\n",
       "      <td>148.02874200</td>\n",
       "      <td>0</td>\n",
       "    </tr>\n",
       "    <tr>\n",
       "      <th>1</th>\n",
       "      <td>1621758900000</td>\n",
       "      <td>0.00504200</td>\n",
       "      <td>0.00506600</td>\n",
       "      <td>0.00500400</td>\n",
       "      <td>0.00500400</td>\n",
       "      <td>120175.00000000</td>\n",
       "      <td>1621759199999</td>\n",
       "      <td>605.99748800</td>\n",
       "      <td>348</td>\n",
       "      <td>53294.00000000</td>\n",
       "      <td>268.38967800</td>\n",
       "      <td>0</td>\n",
       "    </tr>\n",
       "    <tr>\n",
       "      <th>2</th>\n",
       "      <td>1621759200000</td>\n",
       "      <td>0.00501100</td>\n",
       "      <td>0.00502200</td>\n",
       "      <td>0.00498300</td>\n",
       "      <td>0.00500000</td>\n",
       "      <td>90252.00000000</td>\n",
       "      <td>1621759499999</td>\n",
       "      <td>451.05157900</td>\n",
       "      <td>268</td>\n",
       "      <td>21405.00000000</td>\n",
       "      <td>106.94323100</td>\n",
       "      <td>0</td>\n",
       "    </tr>\n",
       "    <tr>\n",
       "      <th>3</th>\n",
       "      <td>1621759500000</td>\n",
       "      <td>0.00500400</td>\n",
       "      <td>0.00502500</td>\n",
       "      <td>0.00498300</td>\n",
       "      <td>0.00498300</td>\n",
       "      <td>162699.00000000</td>\n",
       "      <td>1621759799999</td>\n",
       "      <td>814.71476800</td>\n",
       "      <td>370</td>\n",
       "      <td>84077.00000000</td>\n",
       "      <td>421.09383800</td>\n",
       "      <td>0</td>\n",
       "    </tr>\n",
       "    <tr>\n",
       "      <th>4</th>\n",
       "      <td>1621759800000</td>\n",
       "      <td>0.00499100</td>\n",
       "      <td>0.00499500</td>\n",
       "      <td>0.00493600</td>\n",
       "      <td>0.00494000</td>\n",
       "      <td>167842.00000000</td>\n",
       "      <td>1621760099999</td>\n",
       "      <td>833.68666400</td>\n",
       "      <td>512</td>\n",
       "      <td>53889.00000000</td>\n",
       "      <td>267.76022000</td>\n",
       "      <td>0</td>\n",
       "    </tr>\n",
       "  </tbody>\n",
       "</table>\n",
       "</div>"
      ],
      "text/plain": [
       "       Open Time        Open        High         Low       Close  \\\n",
       "0  1621758600000  0.00505500  0.00506300  0.00501400  0.00504600   \n",
       "1  1621758900000  0.00504200  0.00506600  0.00500400  0.00500400   \n",
       "2  1621759200000  0.00501100  0.00502200  0.00498300  0.00500000   \n",
       "3  1621759500000  0.00500400  0.00502500  0.00498300  0.00498300   \n",
       "4  1621759800000  0.00499100  0.00499500  0.00493600  0.00494000   \n",
       "\n",
       "            Volume     Close Time           QAV  No. Trades      Taker BBAV  \\\n",
       "0   81838.00000000  1621758899999  412.45858000         263  29382.00000000   \n",
       "1  120175.00000000  1621759199999  605.99748800         348  53294.00000000   \n",
       "2   90252.00000000  1621759499999  451.05157900         268  21405.00000000   \n",
       "3  162699.00000000  1621759799999  814.71476800         370  84077.00000000   \n",
       "4  167842.00000000  1621760099999  833.68666400         512  53889.00000000   \n",
       "\n",
       "     Taker BQAV Ignore  \n",
       "0  148.02874200      0  \n",
       "1  268.38967800      0  \n",
       "2  106.94323100      0  \n",
       "3  421.09383800      0  \n",
       "4  267.76022000      0  "
      ]
     },
     "execution_count": 39,
     "metadata": {},
     "output_type": "execute_result"
    }
   ],
   "source": [
    "import pandas as pd\n",
    "\n",
    "indexes = ['Open Time', 'Open', 'High','Low', 'Close', 'Volume', 'Close Time', 'QAV', 'No. Trades', 'Taker BBAV', 'Taker BQAV', 'Ignore']\n",
    "data = pd.DataFrame(columns=indexes,data=candles)\n",
    "data.head()"
   ]
  },
  {
   "cell_type": "markdown",
   "id": "4ef41ea0",
   "metadata": {},
   "source": [
    "## Data Preprocessing\n",
    "Fixing the wrong timestamp for the **Open Time** columns and setting this column as the index for the DataFrame is crucial for proper visualization of the DataFrame. Then, filtering out the columns so our DataFrame will only contain the **Open Time, Open, High, Low, Close and Volume** - ie. Open Time + OHLCV. "
   ]
  },
  {
   "cell_type": "code",
   "execution_count": 40,
   "id": "c3d67b72",
   "metadata": {},
   "outputs": [],
   "source": [
    "from datetime import datetime\n",
    "data['Open Time'] = data['Open Time'].apply(lambda x: datetime.fromtimestamp(int(x)/1000))\n",
    "data.set_index(['Open Time'], inplace=True)\n",
    "data = data.filter(['Open Time', 'Open', 'High', 'Low', 'Close', 'Volume'])"
   ]
  },
  {
   "cell_type": "markdown",
   "id": "b97edcbf",
   "metadata": {},
   "source": [
    "Then, again, the first 5 columns are shown with the data and columns fixed."
   ]
  },
  {
   "cell_type": "code",
   "execution_count": 41,
   "id": "1567bbb2",
   "metadata": {},
   "outputs": [
    {
     "data": {
      "text/html": [
       "<div>\n",
       "<style scoped>\n",
       "    .dataframe tbody tr th:only-of-type {\n",
       "        vertical-align: middle;\n",
       "    }\n",
       "\n",
       "    .dataframe tbody tr th {\n",
       "        vertical-align: top;\n",
       "    }\n",
       "\n",
       "    .dataframe thead th {\n",
       "        text-align: right;\n",
       "    }\n",
       "</style>\n",
       "<table border=\"1\" class=\"dataframe\">\n",
       "  <thead>\n",
       "    <tr style=\"text-align: right;\">\n",
       "      <th></th>\n",
       "      <th>Open</th>\n",
       "      <th>High</th>\n",
       "      <th>Low</th>\n",
       "      <th>Close</th>\n",
       "      <th>Volume</th>\n",
       "    </tr>\n",
       "    <tr>\n",
       "      <th>Open Time</th>\n",
       "      <th></th>\n",
       "      <th></th>\n",
       "      <th></th>\n",
       "      <th></th>\n",
       "      <th></th>\n",
       "    </tr>\n",
       "  </thead>\n",
       "  <tbody>\n",
       "    <tr>\n",
       "      <th>2021-05-23 05:30:00</th>\n",
       "      <td>0.00505500</td>\n",
       "      <td>0.00506300</td>\n",
       "      <td>0.00501400</td>\n",
       "      <td>0.00504600</td>\n",
       "      <td>81838.00000000</td>\n",
       "    </tr>\n",
       "    <tr>\n",
       "      <th>2021-05-23 05:35:00</th>\n",
       "      <td>0.00504200</td>\n",
       "      <td>0.00506600</td>\n",
       "      <td>0.00500400</td>\n",
       "      <td>0.00500400</td>\n",
       "      <td>120175.00000000</td>\n",
       "    </tr>\n",
       "    <tr>\n",
       "      <th>2021-05-23 05:40:00</th>\n",
       "      <td>0.00501100</td>\n",
       "      <td>0.00502200</td>\n",
       "      <td>0.00498300</td>\n",
       "      <td>0.00500000</td>\n",
       "      <td>90252.00000000</td>\n",
       "    </tr>\n",
       "    <tr>\n",
       "      <th>2021-05-23 05:45:00</th>\n",
       "      <td>0.00500400</td>\n",
       "      <td>0.00502500</td>\n",
       "      <td>0.00498300</td>\n",
       "      <td>0.00498300</td>\n",
       "      <td>162699.00000000</td>\n",
       "    </tr>\n",
       "    <tr>\n",
       "      <th>2021-05-23 05:50:00</th>\n",
       "      <td>0.00499100</td>\n",
       "      <td>0.00499500</td>\n",
       "      <td>0.00493600</td>\n",
       "      <td>0.00494000</td>\n",
       "      <td>167842.00000000</td>\n",
       "    </tr>\n",
       "  </tbody>\n",
       "</table>\n",
       "</div>"
      ],
      "text/plain": [
       "                           Open        High         Low       Close  \\\n",
       "Open Time                                                             \n",
       "2021-05-23 05:30:00  0.00505500  0.00506300  0.00501400  0.00504600   \n",
       "2021-05-23 05:35:00  0.00504200  0.00506600  0.00500400  0.00500400   \n",
       "2021-05-23 05:40:00  0.00501100  0.00502200  0.00498300  0.00500000   \n",
       "2021-05-23 05:45:00  0.00500400  0.00502500  0.00498300  0.00498300   \n",
       "2021-05-23 05:50:00  0.00499100  0.00499500  0.00493600  0.00494000   \n",
       "\n",
       "                              Volume  \n",
       "Open Time                             \n",
       "2021-05-23 05:30:00   81838.00000000  \n",
       "2021-05-23 05:35:00  120175.00000000  \n",
       "2021-05-23 05:40:00   90252.00000000  \n",
       "2021-05-23 05:45:00  162699.00000000  \n",
       "2021-05-23 05:50:00  167842.00000000  "
      ]
     },
     "execution_count": 41,
     "metadata": {},
     "output_type": "execute_result"
    }
   ],
   "source": [
    "data.head()"
   ]
  },
  {
   "cell_type": "code",
   "execution_count": null,
   "id": "3c91d0b9",
   "metadata": {},
   "outputs": [],
   "source": []
  }
 ],
 "metadata": {
  "kernelspec": {
   "display_name": "Python 3",
   "language": "python",
   "name": "python3"
  },
  "language_info": {
   "codemirror_mode": {
    "name": "ipython",
    "version": 3
   },
   "file_extension": ".py",
   "mimetype": "text/x-python",
   "name": "python",
   "nbconvert_exporter": "python",
   "pygments_lexer": "ipython3",
   "version": "3.8.8"
  }
 },
 "nbformat": 4,
 "nbformat_minor": 5
}
